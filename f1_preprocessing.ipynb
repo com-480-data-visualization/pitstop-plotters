{
 "cells": [
  {
   "cell_type": "markdown",
   "id": "5ddf56a0",
   "metadata": {
    "id": "008f33b9",
    "papermill": {
     "duration": 0.018619,
     "end_time": "2023-04-20T17:11:24.900130",
     "exception": false,
     "start_time": "2023-04-20T17:11:24.881511",
     "status": "completed"
    },
    "tags": []
   },
   "source": [
    "# Exploratory Data Analysis\n",
    "Based on the Kaggle notebook of Akhil Reddy: [Formula 1, A Visual Explorative Analysis](https://www.kaggle.com/code/akhilreddy9554/formula-1-a-visual-explorative-analysis)."
   ]
  },
  {
   "cell_type": "markdown",
   "id": "bd4090ee",
   "metadata": {},
   "source": [
    "## Imports and constants"
   ]
  },
  {
   "cell_type": "code",
   "execution_count": 1,
   "id": "eeef506e",
   "metadata": {
    "execution": {
     "iopub.execute_input": "2023-04-20T17:11:24.934186Z",
     "iopub.status.busy": "2023-04-20T17:11:24.933686Z",
     "iopub.status.idle": "2023-04-20T17:11:27.173093Z",
     "shell.execute_reply": "2023-04-20T17:11:27.171927Z"
    },
    "id": "7ac5a779",
    "papermill": {
     "duration": 2.259677,
     "end_time": "2023-04-20T17:11:27.175995",
     "exception": false,
     "start_time": "2023-04-20T17:11:24.916318",
     "status": "completed"
    },
    "tags": [],
    "ExecuteTime": {
     "end_time": "2024-03-29T15:36:36.709523700Z",
     "start_time": "2024-03-29T15:36:36.274885500Z"
    }
   },
   "outputs": [],
   "source": [
    "import pandas as pd\n",
    "import numpy as np \n",
    "import matplotlib.pyplot as plt\n",
    "import seaborn as sns\n",
    "import plotly.graph_objects as go\n",
    "import plotly.express as px\n",
    "import datetime "
   ]
  },
  {
   "cell_type": "code",
   "execution_count": 2,
   "id": "557276fc1b9af2e",
   "metadata": {
    "collapsed": false,
    "ExecuteTime": {
     "end_time": "2024-03-29T15:36:36.718976700Z",
     "start_time": "2024-03-29T15:36:36.710678900Z"
    }
   },
   "outputs": [],
   "source": [
    "DATA_FOLDER = './data/'"
   ]
  },
  {
   "cell_type": "code",
   "outputs": [],
   "source": [
    "# Comment if you don't want dark theme\n",
    "#plt.style.use('dark_background')"
   ],
   "metadata": {
    "ExecuteTime": {
     "end_time": "2024-03-29T15:33:45.543103300Z",
     "start_time": "2024-03-29T15:33:45.351317Z"
    }
   },
   "id": "a391c83d",
   "execution_count": 8
  },
  {
   "cell_type": "markdown",
   "id": "06b259aa",
   "metadata": {
    "heading_collapsed": true,
    "id": "23657568",
    "papermill": {
     "duration": 0.015985,
     "end_time": "2023-04-20T17:11:27.209883",
     "exception": false,
     "start_time": "2023-04-20T17:11:27.193898",
     "status": "completed"
    },
    "tags": []
   },
   "source": [
    "## Load files"
   ]
  },
  {
   "cell_type": "code",
   "execution_count": 4,
   "id": "1e91d690",
   "metadata": {
    "execution": {
     "iopub.execute_input": "2023-04-20T17:11:27.243910Z",
     "iopub.status.busy": "2023-04-20T17:11:27.243242Z",
     "iopub.status.idle": "2023-04-20T17:11:28.141038Z",
     "shell.execute_reply": "2023-04-20T17:11:28.139959Z"
    },
    "hidden": true,
    "id": "41773523",
    "papermill": {
     "duration": 0.917853,
     "end_time": "2023-04-20T17:11:28.143609",
     "exception": false,
     "start_time": "2023-04-20T17:11:27.225756",
     "status": "completed"
    },
    "tags": [],
    "ExecuteTime": {
     "end_time": "2024-03-29T15:36:58.358399800Z",
     "start_time": "2024-03-29T15:36:58.031991200Z"
    }
   },
   "outputs": [],
   "source": [
    "circuits = pd.read_csv(DATA_FOLDER + 'circuits.csv')\n",
    "laptimes = pd.read_csv(DATA_FOLDER + 'lap_times.csv')\n",
    "pitstops = pd.read_csv(DATA_FOLDER + 'pit_stops.csv')\n",
    "seasons = pd.read_csv(DATA_FOLDER + 'seasons.csv',parse_dates=['year'])\n",
    "status = pd.read_csv(DATA_FOLDER + 'status.csv')"
   ]
  },
  {
   "cell_type": "code",
   "execution_count": 5,
   "id": "f875650c",
   "metadata": {
    "execution": {
     "iopub.execute_input": "2023-04-20T17:11:28.177230Z",
     "iopub.status.busy": "2023-04-20T17:11:28.176809Z",
     "iopub.status.idle": "2023-04-20T17:11:28.568548Z",
     "shell.execute_reply": "2023-04-20T17:11:28.567375Z"
    },
    "hidden": true,
    "id": "a457b4c2",
    "papermill": {
     "duration": 0.411565,
     "end_time": "2023-04-20T17:11:28.571218",
     "exception": false,
     "start_time": "2023-04-20T17:11:28.159653",
     "status": "completed"
    },
    "tags": [],
    "ExecuteTime": {
     "end_time": "2024-03-29T15:36:58.526583800Z",
     "start_time": "2024-03-29T15:36:58.469247100Z"
    }
   },
   "outputs": [],
   "source": [
    "constructor_standings = pd.read_csv(DATA_FOLDER + 'constructor_standings.csv')\n",
    "constructors = pd.read_csv(DATA_FOLDER + 'constructors.csv')\n",
    "driver_standings = pd.read_csv(DATA_FOLDER + 'driver_standings.csv')\n",
    "drivers = pd.read_csv(DATA_FOLDER + 'drivers.csv')"
   ]
  },
  {
   "cell_type": "code",
   "execution_count": 6,
   "id": "cafb2bc8",
   "metadata": {
    "execution": {
     "iopub.execute_input": "2023-04-20T17:11:28.605641Z",
     "iopub.status.busy": "2023-04-20T17:11:28.604487Z",
     "iopub.status.idle": "2023-04-20T17:11:29.077567Z",
     "shell.execute_reply": "2023-04-20T17:11:29.076419Z"
    },
    "hidden": true,
    "id": "0ed865f9",
    "papermill": {
     "duration": 0.493231,
     "end_time": "2023-04-20T17:11:29.080407",
     "exception": false,
     "start_time": "2023-04-20T17:11:28.587176",
     "status": "completed"
    },
    "tags": [],
    "ExecuteTime": {
     "end_time": "2024-03-29T15:36:58.933398200Z",
     "start_time": "2024-03-29T15:36:58.842227600Z"
    }
   },
   "outputs": [],
   "source": [
    "races = pd.read_csv(DATA_FOLDER + 'races.csv',parse_dates=['year'])\n",
    "constructor_results = pd.read_csv(DATA_FOLDER + 'constructor_results.csv')\n",
    "results = pd.read_csv(DATA_FOLDER + 'results.csv')\n",
    "qualifying = pd.read_csv(DATA_FOLDER + 'qualifying.csv')"
   ]
  },
  {
   "cell_type": "markdown",
   "id": "038d3e9d",
   "metadata": {
    "heading_collapsed": true,
    "id": "ca358534",
    "papermill": {
     "duration": 0.015591,
     "end_time": "2023-04-20T17:11:29.112595",
     "exception": false,
     "start_time": "2023-04-20T17:11:29.097004",
     "status": "completed"
    },
    "tags": []
   },
   "source": [
    "## Constructor analysis"
   ]
  },
  {
   "cell_type": "code",
   "execution_count": 7,
   "id": "6927d577",
   "metadata": {
    "execution": {
     "iopub.execute_input": "2023-04-20T17:11:29.178675Z",
     "iopub.status.busy": "2023-04-20T17:11:29.177479Z",
     "iopub.status.idle": "2023-04-20T17:11:29.215662Z",
     "shell.execute_reply": "2023-04-20T17:11:29.214398Z"
    },
    "hidden": true,
    "id": "c5faf2bf",
    "papermill": {
     "duration": 0.058588,
     "end_time": "2023-04-20T17:11:29.218572",
     "exception": false,
     "start_time": "2023-04-20T17:11:29.159984",
     "status": "completed"
    },
    "tags": [],
    "ExecuteTime": {
     "end_time": "2024-03-29T15:37:03.422661800Z",
     "start_time": "2024-03-29T15:37:03.392730400Z"
    }
   },
   "outputs": [],
   "source": [
    "#merging the constructors dataframe with race results\n",
    "teams = constructors.merge(results,on='constructorId',how = 'left')"
   ]
  },
  {
   "cell_type": "markdown",
   "id": "1fba9da4",
   "metadata": {},
   "source": [
    "### Most wins"
   ]
  },
  {
   "cell_type": "code",
   "execution_count": 8,
   "id": "03d3e3b4",
   "metadata": {
    "ExecuteTime": {
     "end_time": "2024-03-29T15:15:15.789012Z",
     "start_time": "2024-03-29T15:15:14.759652200Z"
    }
   },
   "outputs": [
    {
     "data": {
      "text/plain": "<Figure size 1000x500 with 1 Axes>",
      "image/png": "[encoded data removed]"
     },
     "metadata": {},
     "output_type": "display_data"
    }
   ],
   "source": [
    "# get the number of wins per team\n",
    "team_wins = teams[teams['positionOrder'] == 1].groupby('name')['name'].count().sort_values(ascending=False)\n",
    "\n",
    "# plot the 10 teams with the most wins\n",
    "plt.figure(figsize=(10,5))\n",
    "team_wins[:10].plot(kind='bar')\n",
    "plt.title('Top 10 Teams with the most wins')\n",
    "plt.ylabel('Number of wins')\n",
    "plt.xlabel('Teams')\n",
    "\n",
    "#plt.gcf().set_facecolor('none')\n",
    "# Save the figure with a transparent background\n",
    "plt.savefig('./img/most_team_win.png', transparent=True)\n",
    "plt.show()\n"
   ]
  },
  {
   "cell_type": "markdown",
   "id": "e792a333",
   "metadata": {},
   "source": [
    "### Most races participated in"
   ]
  },
  {
   "cell_type": "code",
   "execution_count": 9,
   "id": "a138a702",
   "metadata": {
    "execution": {
     "iopub.execute_input": "2023-04-20T17:11:29.252687Z",
     "iopub.status.busy": "2023-04-20T17:11:29.251791Z",
     "iopub.status.idle": "2023-04-20T17:11:29.285835Z",
     "shell.execute_reply": "2023-04-20T17:11:29.284667Z"
    },
    "hidden": true,
    "id": "da719e47",
    "outputId": "49163b6c-27ec-4fe6-f91f-f60b5c93038c",
    "papermill": {
     "duration": 0.054362,
     "end_time": "2023-04-20T17:11:29.288917",
     "exception": false,
     "start_time": "2023-04-20T17:11:29.234555",
     "status": "completed"
    },
    "tags": [],
    "ExecuteTime": {
     "end_time": "2024-03-29T15:15:16.905465900Z",
     "start_time": "2024-03-29T15:15:16.798489600Z"
    }
   },
   "outputs": [],
   "source": [
    "#extracting the columns needed and grouping it by constructor name, extracting the total races entered\n",
    "\n",
    "team_races = teams[['name','points','raceId']]\n",
    "team_races = team_races.groupby('name')['raceId'].nunique().sort_values(ascending=False)"
   ]
  },
  {
   "cell_type": "code",
   "execution_count": 10,
   "id": "b041ac33",
   "metadata": {
    "ExecuteTime": {
     "end_time": "2024-03-29T15:15:18.292238800Z",
     "start_time": "2024-03-29T15:15:17.395321900Z"
    }
   },
   "outputs": [
    {
     "data": {
      "text/plain": "<Figure size 1000x500 with 1 Axes>",
      "image/png": "[encoded data removed]"
     },
     "metadata": {},
     "output_type": "display_data"
    }
   ],
   "source": [
    "# plot using matplotlib\n",
    "plt.figure(figsize=(10,5))\n",
    "team_races[:10].plot(kind='bar')\n",
    "plt.title('Top 10 Teams with the most wins')\n",
    "plt.ylabel('Number of wins')\n",
    "plt.xlabel('Teams')\n",
    "plt.savefig('./img/most_races.png', transparent=True)\n",
    "plt.show()"
   ]
  },
  {
   "cell_type": "markdown",
   "id": "08108e34",
   "metadata": {
    "id": "9acc467e",
    "papermill": {
     "duration": 0.017859,
     "end_time": "2023-04-20T17:11:31.413941",
     "exception": false,
     "start_time": "2023-04-20T17:11:31.396082",
     "status": "completed"
    },
    "tags": []
   },
   "source": [
    "## Geography"
   ]
  },
  {
   "cell_type": "markdown",
   "id": "a0959ec0",
   "metadata": {
    "ExecuteTime": {
     "end_time": "2022-09-22T15:47:46.736274Z",
     "start_time": "2022-09-22T15:47:46.675421Z"
    },
    "heading_collapsed": true,
    "id": "62aebe43",
    "papermill": {
     "duration": 0.017854,
     "end_time": "2023-04-20T17:11:31.486499",
     "exception": false,
     "start_time": "2023-04-20T17:11:31.468645",
     "status": "completed"
    },
    "tags": []
   },
   "source": [
    "### Drivers Distribution by Country"
   ]
  },
  {
   "cell_type": "code",
   "execution_count": null,
   "id": "ce10bbff",
   "metadata": {
    "execution": {
     "iopub.execute_input": "2023-04-20T17:11:31.524502Z",
     "iopub.status.busy": "2023-04-20T17:11:31.524087Z",
     "iopub.status.idle": "2023-04-20T17:11:31.566698Z",
     "shell.execute_reply": "2023-04-20T17:11:31.565546Z"
    },
    "hidden": true,
    "id": "7c1d5b83",
    "outputId": "f9c01762-890d-442a-ecf4-6971220b80ff",
    "papermill": {
     "duration": 0.064548,
     "end_time": "2023-04-20T17:11:31.569169",
     "exception": false,
     "start_time": "2023-04-20T17:11:31.504621",
     "status": "completed"
    },
    "tags": []
   },
   "outputs": [],
   "source": [
    "# grouping by nationality, counting the driver and plotting a pie chart\n",
    "\n",
    "driver_nationality = drivers.groupby('nationality')['nationality'].count().sort_values(ascending = False).reset_index(name = 'number of drivers')\n",
    "fig = go.Figure(data=[go.Pie(labels=driver_nationality.nationality.head(10), values=driver_nationality['number of drivers'])])\n",
    "fig.update_traces(textfont_size=20,\n",
    "                  marker=dict(line=dict(color='#000000', width=2)))\n",
    "fig.update_layout(\n",
    "    title=\"Historical Driver Nationality Distribution since 1950\")\n",
    "\n",
    "fig.write_image(\"img/nationality_dist.png\")\n",
    "fig.show()"
   ]
  },
  {
   "cell_type": "markdown",
   "id": "5563dd14",
   "metadata": {},
   "source": [
    "### Number of Champions by Country"
   ]
  },
  {
   "cell_type": "code",
   "execution_count": 12,
   "id": "1c4ee301",
   "metadata": {
    "execution": {
     "iopub.execute_input": "2023-04-20T17:11:31.608820Z",
     "iopub.status.busy": "2023-04-20T17:11:31.608061Z",
     "iopub.status.idle": "2023-04-20T17:11:31.651568Z",
     "shell.execute_reply": "2023-04-20T17:11:31.650449Z"
    },
    "hidden": true,
    "id": "9e8d5949",
    "papermill": {
     "duration": 0.066311,
     "end_time": "2023-04-20T17:11:31.654379",
     "exception": false,
     "start_time": "2023-04-20T17:11:31.588068",
     "status": "completed"
    },
    "tags": [],
    "ExecuteTime": {
     "end_time": "2024-03-29T14:45:38.039544Z",
     "start_time": "2024-03-29T14:45:38.004461Z"
    }
   },
   "outputs": [],
   "source": [
    "#merging drivers, driver standings and race data \n",
    "driver_position = drivers.merge(driver_standings,left_on='driverId',right_on='driverId',how = 'left')\n",
    "driver_position = driver_position.merge(races,on = 'raceId',how = 'left')\n",
    "\n",
    "champions = driver_position.groupby(['nationality','year','surname'])[['points','wins']\n",
    "                                            ].max().sort_values('points',ascending = False).reset_index()\n",
    "champions.drop_duplicates(subset=['year'], inplace=True)"
   ]
  },
  {
   "cell_type": "code",
   "execution_count": 13,
   "id": "dd36bc77",
   "metadata": {
    "ExecuteTime": {
     "end_time": "2024-03-29T14:45:39.042443Z",
     "start_time": "2024-03-29T14:45:38.802277Z"
    }
   },
   "outputs": [
    {
     "data": {
      "text/plain": "<Figure size 1000x500 with 0 Axes>"
     },
     "metadata": {},
     "output_type": "display_data"
    },
    {
     "data": {
      "text/plain": "<Figure size 640x480 with 1 Axes>",
      "image/png": "[encoded data removed]"
     },
     "metadata": {},
     "output_type": "display_data"
    }
   ],
   "source": [
    "champion_nations = champions.nationality.value_counts().sort_values(ascending=False).to_frame().head(10)\n",
    "# plot the number champions for the top 10 countries in matplotlib\n",
    "plt.figure(figsize=(10,5))\n",
    "champion_nations.plot(kind='bar')\n",
    "plt.title('Top 10 Countries with the most champions')\n",
    "plt.ylabel('Number of champions')\n",
    "plt.xlabel('Countries')\n",
    "plt.savefig('./img/most_countries.png', transparent=True)\n",
    "plt.show()"
   ]
  },
  {
   "cell_type": "markdown",
   "id": "87410bf5",
   "metadata": {},
   "source": [
    "### Distribution of Champions by Country"
   ]
  },
  {
   "cell_type": "code",
   "execution_count": null,
   "id": "752c25d7",
   "metadata": {
    "execution": {
     "iopub.execute_input": "2023-04-20T17:11:31.779510Z",
     "iopub.status.busy": "2023-04-20T17:11:31.779073Z",
     "iopub.status.idle": "2023-04-20T17:11:31.797313Z",
     "shell.execute_reply": "2023-04-20T17:11:31.796264Z"
    },
    "hidden": true,
    "id": "850174f9",
    "outputId": "046be028-5d67-4d6a-e158-3b3e97e38ad8",
    "papermill": {
     "duration": 0.040684,
     "end_time": "2023-04-20T17:11:31.799713",
     "exception": false,
     "start_time": "2023-04-20T17:11:31.759029",
     "status": "completed"
    },
    "tags": []
   },
   "outputs": [],
   "source": [
    "# counting the number of times a nation ended in P1 and plotting a pie chart\n",
    "\n",
    "champion_nations = champions.nationality.value_counts().to_frame()\n",
    "fig = go.Figure(data=[go.Pie(labels=champion_nations.index, values=champion_nations['nationality'])])\n",
    "fig.update_traces(textfont_size=20,\n",
    "                  marker=dict(line=dict(color='#000000', width=2)))\n",
    "fig.update_layout(\n",
    "    title=\"Distribution of Historic Champions by Nation\")\n",
    "fig.show()"
   ]
  },
  {
   "cell_type": "markdown",
   "id": "26cc5c10",
   "metadata": {},
   "source": [
    "### Ratio of champions according to the nation number of drivers"
   ]
  },
  {
   "cell_type": "code",
   "execution_count": null,
   "id": "198d2bc4",
   "metadata": {
    "execution": {
     "iopub.execute_input": "2023-04-20T17:11:31.876445Z",
     "iopub.status.busy": "2023-04-20T17:11:31.876024Z",
     "iopub.status.idle": "2023-04-20T17:11:31.914720Z",
     "shell.execute_reply": "2023-04-20T17:11:31.913579Z"
    },
    "hidden": true,
    "id": "f3bb4727",
    "outputId": "8dace2b1-66cc-45b7-b25d-9da30008ebf5",
    "papermill": {
     "duration": 0.061228,
     "end_time": "2023-04-20T17:11:31.917287",
     "exception": false,
     "start_time": "2023-04-20T17:11:31.856059",
     "status": "completed"
    },
    "tags": []
   },
   "outputs": [],
   "source": [
    "#grouping by nationality year and surname to get the max points achieved every season and dropping year duplicates\n",
    "\n",
    "champion_drivers = driver_position.groupby(['nationality','year','surname'])[['points','wins']\n",
    "                                            ].max().sort_values('points',ascending = False).reset_index()\n",
    "champion_drivers.drop_duplicates(subset=['year'], inplace=True)\n",
    "\n",
    "#grouping by nationality and counting the surname of drivers \n",
    "\n",
    "final = champion_drivers.groupby('nationality')['surname'].nunique().reset_index(name = 'champions').sort_values(\n",
    "    by='champions',ascending = False)\n",
    "\n",
    "#merging both the datasets and creating a column to calculate the ratio\n",
    "\n",
    "ratios = final.merge(driver_nationality,on='nationality',how='inner')\n",
    "ratios['perc_winners'] = (ratios.champions/ratios['number of drivers']*100).round(2)\n",
    "ratios = ratios.sort_values('perc_winners',ascending = False)"
   ]
  },
  {
   "cell_type": "code",
   "execution_count": null,
   "id": "ec165239",
   "metadata": {
    "execution": {
     "iopub.execute_input": "2023-04-20T17:11:31.956934Z",
     "iopub.status.busy": "2023-04-20T17:11:31.956466Z",
     "iopub.status.idle": "2023-04-20T17:11:32.061146Z",
     "shell.execute_reply": "2023-04-20T17:11:32.059936Z"
    },
    "hidden": true,
    "id": "1deb3a44",
    "outputId": "a2785952-48f7-411e-deda-9d08e97cf4a1",
    "papermill": {
     "duration": 0.127553,
     "end_time": "2023-04-20T17:11:32.063777",
     "exception": false,
     "start_time": "2023-04-20T17:11:31.936224",
     "status": "completed"
    },
    "tags": []
   },
   "outputs": [],
   "source": [
    "#creating a bar chart\n",
    "\n",
    "df = ratios\n",
    "fig = px.bar(df, x='nationality', y='perc_winners',\n",
    "         hover_data=['champions','number of drivers'], color='number of drivers',\n",
    "         height=400)\n",
    "fig.update_traces(textfont_size=20,\n",
    "              marker=dict(line=dict(color='#000000', width=2)))\n",
    "fig.update_layout(\n",
    "    title=\"Champions from a nation with respect to total drivers from the nation\")\n",
    "fig.update_xaxes(showgrid=False)\n",
    "fig.update_yaxes(showgrid=False)"
   ]
  },
  {
   "cell_type": "markdown",
   "id": "ba5199b3",
   "metadata": {
    "id": "ff477b1f",
    "papermill": {
     "duration": 0.018855,
     "end_time": "2023-04-20T17:11:32.140464",
     "exception": false,
     "start_time": "2023-04-20T17:11:32.121609",
     "status": "completed"
    },
    "tags": []
   },
   "source": [
    "## Drivers analysis"
   ]
  },
  {
   "cell_type": "markdown",
   "id": "3fe0a3a5",
   "metadata": {
    "heading_collapsed": true,
    "hidden": true,
    "id": "1c8b6096",
    "papermill": {
     "duration": 0.02069,
     "end_time": "2023-04-20T17:11:36.188622",
     "exception": false,
     "start_time": "2023-04-20T17:11:36.167932",
     "status": "completed"
    },
    "tags": []
   },
   "source": [
    "### Number of race wins"
   ]
  },
  {
   "cell_type": "code",
   "execution_count": 17,
   "id": "553368bf",
   "metadata": {
    "execution": {
     "iopub.execute_input": "2023-04-20T17:11:36.233041Z",
     "iopub.status.busy": "2023-04-20T17:11:36.232615Z",
     "iopub.status.idle": "2023-04-20T17:11:36.290803Z",
     "shell.execute_reply": "2023-04-20T17:11:36.289693Z"
    },
    "hidden": true,
    "id": "ce35000c",
    "outputId": "89944ce2-5fb8-46e9-a23d-9e0d96da18cb",
    "papermill": {
     "duration": 0.083265,
     "end_time": "2023-04-20T17:11:36.293324",
     "exception": false,
     "start_time": "2023-04-20T17:11:36.210059",
     "status": "completed"
    },
    "tags": [],
    "ExecuteTime": {
     "end_time": "2024-03-29T14:45:47.049045Z",
     "start_time": "2024-03-29T14:45:47.023210Z"
    }
   },
   "outputs": [],
   "source": [
    "race_wins = drivers.merge(results,left_on='driverId',right_on='driverId',how = 'left')\n",
    "race_wins['full_name'] = race_wins['forename'] + ' ' + race_wins['surname']\n",
    "\n",
    "race_wins = race_wins[['full_name','positionOrder']]\n",
    "\n",
    "highest_rw = race_wins[race_wins['positionOrder'] == 1.0].groupby('full_name').count().sort_values('positionOrder', ascending = False).reset_index()"
   ]
  },
  {
   "cell_type": "code",
   "execution_count": 18,
   "id": "d96ca6c7",
   "metadata": {
    "ExecuteTime": {
     "end_time": "2024-03-29T14:45:48.774696Z",
     "start_time": "2024-03-29T14:45:48.423804Z"
    }
   },
   "outputs": [
    {
     "data": {
      "text/plain": "<Figure size 1000x500 with 0 Axes>"
     },
     "metadata": {},
     "output_type": "display_data"
    },
    {
     "data": {
      "text/plain": "<Figure size 640x480 with 1 Axes>",
      "image/png": "[encoded data removed]"
     },
     "metadata": {},
     "output_type": "display_data"
    }
   ],
   "source": [
    "# gen a graph of the top 20 drivers with the most wins using matplotlib\n",
    "\n",
    "plt.figure(figsize=(10,5))\n",
    "highest_rw[:10].plot(kind='bar',x='full_name',y='positionOrder')\n",
    "plt.title('Top 20 Drivers with the most wins')\n",
    "plt.ylabel('Number of wins')\n",
    "plt.xlabel('Drivers')\n",
    "plt.savefig('./img/most_race_win.png', transparent=True)\n",
    "plt.show()\n"
   ]
  },
  {
   "cell_type": "markdown",
   "id": "6c25cb60",
   "metadata": {
    "heading_collapsed": true,
    "hidden": true,
    "id": "f712191c",
    "papermill": {
     "duration": 0.021013,
     "end_time": "2023-04-20T17:11:36.037476",
     "exception": false,
     "start_time": "2023-04-20T17:11:36.016463",
     "status": "completed"
    },
    "tags": []
   },
   "source": [
    "### Number of pole positions"
   ]
  },
  {
   "cell_type": "code",
   "execution_count": 19,
   "id": "0de67b74",
   "metadata": {
    "execution": {
     "iopub.execute_input": "2023-04-20T17:11:36.082039Z",
     "iopub.status.busy": "2023-04-20T17:11:36.081299Z",
     "iopub.status.idle": "2023-04-20T17:11:36.142303Z",
     "shell.execute_reply": "2023-04-20T17:11:36.141102Z"
    },
    "hidden": true,
    "id": "f32f1ee1",
    "outputId": "0249d37f-160c-4446-9c37-fed8c9ba66f9",
    "papermill": {
     "duration": 0.087645,
     "end_time": "2023-04-20T17:11:36.145704",
     "exception": false,
     "start_time": "2023-04-20T17:11:36.058059",
     "status": "completed"
    },
    "tags": [],
    "ExecuteTime": {
     "end_time": "2024-03-29T14:49:21.619954Z",
     "start_time": "2024-03-29T14:49:21.595801Z"
    }
   },
   "outputs": [],
   "source": [
    "driver_quali = results.merge(drivers,left_on = 'driverId',right_on='driverId',how = 'left')\n",
    "driver_quali['full_name'] = driver_quali['forename'] + ' ' + driver_quali['surname']\n",
    "driver_quali = driver_quali[['full_name','grid','position']]\n",
    "\n",
    "\n",
    "quali_wins = driver_quali[driver_quali['grid'] == 1].groupby('full_name')['grid'].sum().reset_index(\n",
    "                                        name = 'grid poles').sort_values('grid poles',ascending = False)\n",
    "\n",
    "quali_wins = quali_wins.reset_index(col_level=0)\n",
    "quali_wins.drop('index',axis = 1,inplace = True)"
   ]
  },
  {
   "cell_type": "code",
   "execution_count": 20,
   "id": "7c1d0e65",
   "metadata": {
    "ExecuteTime": {
     "end_time": "2024-03-29T14:49:22.308770Z",
     "start_time": "2024-03-29T14:49:22.111517Z"
    }
   },
   "outputs": [
    {
     "data": {
      "text/plain": "<Figure size 1000x500 with 0 Axes>"
     },
     "metadata": {},
     "output_type": "display_data"
    },
    {
     "data": {
      "text/plain": "<Figure size 640x480 with 1 Axes>",
      "image/png": "[encoded data removed]"
     },
     "metadata": {},
     "output_type": "display_data"
    }
   ],
   "source": [
    "# plot the top 10 drivers with the most pole positions using matplotlib\n",
    "plt.figure(figsize=(10,5))\n",
    "quali_wins[:10].plot(kind='bar',x='full_name',y='grid poles')\n",
    "plt.title('Top 10 Drivers with the most pole positions')\n",
    "plt.ylabel('Number of pole positions')\n",
    "plt.xlabel('Drivers')\n",
    "plt.savefig('./img/most_pole.png', transparent=True)\n",
    "plt.show()"
   ]
  },
  {
   "cell_type": "markdown",
   "id": "87fbbfa1",
   "metadata": {},
   "source": [
    "### Most wins in a single season"
   ]
  },
  {
   "cell_type": "code",
   "execution_count": 21,
   "id": "e854a9d1",
   "metadata": {
    "execution": {
     "iopub.execute_input": "2023-04-20T17:11:32.180471Z",
     "iopub.status.busy": "2023-04-20T17:11:32.180077Z",
     "iopub.status.idle": "2023-04-20T17:11:32.221884Z",
     "shell.execute_reply": "2023-04-20T17:11:32.220535Z"
    },
    "id": "e6676b77",
    "papermill": {
     "duration": 0.065274,
     "end_time": "2023-04-20T17:11:32.224884",
     "exception": false,
     "start_time": "2023-04-20T17:11:32.159610",
     "status": "completed"
    },
    "tags": [],
    "ExecuteTime": {
     "end_time": "2024-03-29T14:49:22.573198Z",
     "start_time": "2024-03-29T14:49:22.550679Z"
    }
   },
   "outputs": [],
   "source": [
    "#merging driver data, their standings and race data\n",
    "\n",
    "driver_position = drivers.merge(driver_standings,left_on='driverId',right_on='driverId',how = 'left')\n",
    "driver_position = driver_position.merge(races,on = 'raceId',how = 'left')"
   ]
  },
  {
   "cell_type": "code",
   "execution_count": 22,
   "id": "8c340c2a",
   "metadata": {
    "execution": {
     "iopub.execute_input": "2023-04-20T17:11:32.266064Z",
     "iopub.status.busy": "2023-04-20T17:11:32.265634Z",
     "iopub.status.idle": "2023-04-20T17:11:32.295780Z",
     "shell.execute_reply": "2023-04-20T17:11:32.294535Z"
    },
    "id": "489875e6",
    "outputId": "c19ef461-e5e8-42f7-a4cb-e98bcfa3e338",
    "papermill": {
     "duration": 0.053411,
     "end_time": "2023-04-20T17:11:32.298300",
     "exception": false,
     "start_time": "2023-04-20T17:11:32.244889",
     "status": "completed"
    },
    "tags": [],
    "ExecuteTime": {
     "end_time": "2024-03-29T14:49:22.662291Z",
     "start_time": "2024-03-29T14:49:22.654009Z"
    }
   },
   "outputs": [],
   "source": [
    "#filtering the dataset to include only where the position is 1 and grouping by name, year and extracting the max wins\n",
    "\n",
    "positions = driver_position[driver_position['position'] == 1].groupby(\n",
    "    ['surname','year'])['wins'].max().sort_values(ascending=False).reset_index(name = 'Wins')\n",
    "positions.head(20)\n",
    "positions.year = positions.year.dt.year\n",
    "positions.rename(columns={'surname':'name'},inplace=True)\n",
    "positions.Wins = positions.Wins.astype('int64')"
   ]
  },
  {
   "cell_type": "code",
   "execution_count": 23,
   "id": "b50ca1b3",
   "metadata": {
    "execution": {
     "iopub.execute_input": "2023-04-20T17:11:32.339724Z",
     "iopub.status.busy": "2023-04-20T17:11:32.339335Z",
     "iopub.status.idle": "2023-04-20T17:11:32.498220Z",
     "shell.execute_reply": "2023-04-20T17:11:32.496885Z"
    },
    "id": "f58042a9",
    "outputId": "3af7338c-3486-490b-b683-a63892504696",
    "papermill": {
     "duration": 0.182869,
     "end_time": "2023-04-20T17:11:32.501133",
     "exception": false,
     "start_time": "2023-04-20T17:11:32.318264",
     "status": "completed"
    },
    "tags": [],
    "ExecuteTime": {
     "end_time": "2024-03-29T14:49:23.372195Z",
     "start_time": "2024-03-29T14:49:23.293134Z"
    }
   },
   "outputs": [
    {
     "data": {
      "application/vnd.plotly.v1+json": {
       "data": [
        {
         "hovertemplate": "name=Verstappen<br>year=%{x}<br>Wins=%{marker.size}<extra></extra>",
         "legendgroup": "Verstappen",
         "marker": {
          "color": "#636efa",
          "size": [
           15,
           10,
           10
          ],
          "sizemode": "area",
          "sizeref": 0.0375,
          "symbol": "circle",
          "line": {
           "color": "#000000",
           "width": 2
          }
         },
         "mode": "markers",
         "name": "Verstappen",
         "orientation": "v",
         "showlegend": true,
         "x": [
          2022,
          2023,
          2021
         ],
         "xaxis": "x",
         "y": [
          15,
          10,
          10
         ],
         "yaxis": "y",
         "type": "scatter",
         "textfont": {
          "size": 20
         }
        },
        {
         "hovertemplate": "name=Vettel<br>year=%{x}<br>Wins=%{marker.size}<extra></extra>",
         "legendgroup": "Vettel",
         "marker": {
          "color": "#EF553B",
          "size": [
           13,
           11
          ],
          "sizemode": "area",
          "sizeref": 0.0375,
          "symbol": "circle",
          "line": {
           "color": "#000000",
           "width": 2
          }
         },
         "mode": "markers",
         "name": "Vettel",
         "orientation": "v",
         "showlegend": true,
         "x": [
          2013,
          2011
         ],
         "xaxis": "x",
         "y": [
          13,
          11
         ],
         "yaxis": "y",
         "type": "scatter",
         "textfont": {
          "size": 20
         }
        },
        {
         "hovertemplate": "name=Schumacher<br>year=%{x}<br>Wins=%{marker.size}<extra></extra>",
         "legendgroup": "Schumacher",
         "marker": {
          "color": "#00cc96",
          "size": [
           13,
           11,
           9,
           9,
           9,
           8,
           7
          ],
          "sizemode": "area",
          "sizeref": 0.0375,
          "symbol": "circle",
          "line": {
           "color": "#000000",
           "width": 2
          }
         },
         "mode": "markers",
         "name": "Schumacher",
         "orientation": "v",
         "showlegend": true,
         "x": [
          2004,
          2002,
          2000,
          2001,
          1995,
          1994,
          2006
         ],
         "xaxis": "x",
         "y": [
          13,
          11,
          9,
          9,
          9,
          8,
          7
         ],
         "yaxis": "y",
         "type": "scatter",
         "textfont": {
          "size": 20
         }
        },
        {
         "hovertemplate": "name=Hamilton<br>year=%{x}<br>Wins=%{marker.size}<extra></extra>",
         "legendgroup": "Hamilton",
         "marker": {
          "color": "#ab63fa",
          "size": [
           11,
           11,
           11,
           11,
           10,
           9
          ],
          "sizemode": "area",
          "sizeref": 0.0375,
          "symbol": "circle",
          "line": {
           "color": "#000000",
           "width": 2
          }
         },
         "mode": "markers",
         "name": "Hamilton",
         "orientation": "v",
         "showlegend": true,
         "x": [
          2014,
          2020,
          2018,
          2019,
          2015,
          2017
         ],
         "xaxis": "x",
         "y": [
          11,
          11,
          11,
          11,
          10,
          9
         ],
         "yaxis": "y",
         "type": "scatter",
         "textfont": {
          "size": 20
         }
        },
        {
         "hovertemplate": "name=Rosberg<br>year=%{x}<br>Wins=%{marker.size}<extra></extra>",
         "legendgroup": "Rosberg",
         "marker": {
          "color": "#FFA15A",
          "size": [
           9
          ],
          "sizemode": "area",
          "sizeref": 0.0375,
          "symbol": "circle",
          "line": {
           "color": "#000000",
           "width": 2
          }
         },
         "mode": "markers",
         "name": "Rosberg",
         "orientation": "v",
         "showlegend": true,
         "x": [
          2016
         ],
         "xaxis": "x",
         "y": [
          9
         ],
         "yaxis": "y",
         "type": "scatter",
         "textfont": {
          "size": 20
         }
        },
        {
         "hovertemplate": "name=Mansell<br>year=%{x}<br>Wins=%{marker.size}<extra></extra>",
         "legendgroup": "Mansell",
         "marker": {
          "color": "#19d3f3",
          "size": [
           9
          ],
          "sizemode": "area",
          "sizeref": 0.0375,
          "symbol": "circle",
          "line": {
           "color": "#000000",
           "width": 2
          }
         },
         "mode": "markers",
         "name": "Mansell",
         "orientation": "v",
         "showlegend": true,
         "x": [
          1992
         ],
         "xaxis": "x",
         "y": [
          9
         ],
         "yaxis": "y",
         "type": "scatter",
         "textfont": {
          "size": 20
         }
        },
        {
         "hovertemplate": "name=Hill<br>year=%{x}<br>Wins=%{marker.size}<extra></extra>",
         "legendgroup": "Hill",
         "marker": {
          "color": "#FF6692",
          "size": [
           8
          ],
          "sizemode": "area",
          "sizeref": 0.0375,
          "symbol": "circle",
          "line": {
           "color": "#000000",
           "width": 2
          }
         },
         "mode": "markers",
         "name": "Hill",
         "orientation": "v",
         "showlegend": true,
         "x": [
          1996
         ],
         "xaxis": "x",
         "y": [
          8
         ],
         "yaxis": "y",
         "type": "scatter",
         "textfont": {
          "size": 20
         }
        },
        {
         "hovertemplate": "name=Senna<br>year=%{x}<br>Wins=%{marker.size}<extra></extra>",
         "legendgroup": "Senna",
         "marker": {
          "color": "#B6E880",
          "size": [
           8,
           7
          ],
          "sizemode": "area",
          "sizeref": 0.0375,
          "symbol": "circle",
          "line": {
           "color": "#000000",
           "width": 2
          }
         },
         "mode": "markers",
         "name": "Senna",
         "orientation": "v",
         "showlegend": true,
         "x": [
          1988,
          1991
         ],
         "xaxis": "x",
         "y": [
          8,
          7
         ],
         "yaxis": "y",
         "type": "scatter",
         "textfont": {
          "size": 20
         }
        },
        {
         "hovertemplate": "name=Häkkinen<br>year=%{x}<br>Wins=%{marker.size}<extra></extra>",
         "legendgroup": "Häkkinen",
         "marker": {
          "color": "#FF97FF",
          "size": [
           8
          ],
          "sizemode": "area",
          "sizeref": 0.0375,
          "symbol": "circle",
          "line": {
           "color": "#000000",
           "width": 2
          }
         },
         "mode": "markers",
         "name": "Häkkinen",
         "orientation": "v",
         "showlegend": true,
         "x": [
          1998
         ],
         "xaxis": "x",
         "y": [
          8
         ],
         "yaxis": "y",
         "type": "scatter",
         "textfont": {
          "size": 20
         }
        },
        {
         "hovertemplate": "name=Alonso<br>year=%{x}<br>Wins=%{marker.size}<extra></extra>",
         "legendgroup": "Alonso",
         "marker": {
          "color": "#FECB52",
          "size": [
           7,
           7
          ],
          "sizemode": "area",
          "sizeref": 0.0375,
          "symbol": "circle",
          "line": {
           "color": "#000000",
           "width": 2
          }
         },
         "mode": "markers",
         "name": "Alonso",
         "orientation": "v",
         "showlegend": true,
         "x": [
          2006,
          2005
         ],
         "xaxis": "x",
         "y": [
          7,
          7
         ],
         "yaxis": "y",
         "type": "scatter",
         "textfont": {
          "size": 20
         }
        },
        {
         "hovertemplate": "name=Villeneuve<br>year=%{x}<br>Wins=%{marker.size}<extra></extra>",
         "legendgroup": "Villeneuve",
         "marker": {
          "color": "#636efa",
          "size": [
           7
          ],
          "sizemode": "area",
          "sizeref": 0.0375,
          "symbol": "circle",
          "line": {
           "color": "#000000",
           "width": 2
          }
         },
         "mode": "markers",
         "name": "Villeneuve",
         "orientation": "v",
         "showlegend": true,
         "x": [
          1997
         ],
         "xaxis": "x",
         "y": [
          7
         ],
         "yaxis": "y",
         "type": "scatter",
         "textfont": {
          "size": 20
         }
        },
        {
         "hovertemplate": "name=Clark<br>year=%{x}<br>Wins=%{marker.size}<extra></extra>",
         "legendgroup": "Clark",
         "marker": {
          "color": "#EF553B",
          "size": [
           7
          ],
          "sizemode": "area",
          "sizeref": 0.0375,
          "symbol": "circle",
          "line": {
           "color": "#000000",
           "width": 2
          }
         },
         "mode": "markers",
         "name": "Clark",
         "orientation": "v",
         "showlegend": true,
         "x": [
          1963
         ],
         "xaxis": "x",
         "y": [
          7
         ],
         "yaxis": "y",
         "type": "scatter",
         "textfont": {
          "size": 20
         }
        },
        {
         "hovertemplate": "name=Prost<br>year=%{x}<br>Wins=%{marker.size}<extra></extra>",
         "legendgroup": "Prost",
         "marker": {
          "color": "#00cc96",
          "size": [
           7
          ],
          "sizemode": "area",
          "sizeref": 0.0375,
          "symbol": "circle",
          "line": {
           "color": "#000000",
           "width": 2
          }
         },
         "mode": "markers",
         "name": "Prost",
         "orientation": "v",
         "showlegend": true,
         "x": [
          1993
         ],
         "xaxis": "x",
         "y": [
          7
         ],
         "yaxis": "y",
         "type": "scatter",
         "textfont": {
          "size": 20
         }
        },
        {
         "hovertemplate": "name=Stewart<br>year=%{x}<br>Wins=%{marker.size}<extra></extra>",
         "legendgroup": "Stewart",
         "marker": {
          "color": "#ab63fa",
          "size": [
           6
          ],
          "sizemode": "area",
          "sizeref": 0.0375,
          "symbol": "circle",
          "line": {
           "color": "#000000",
           "width": 2
          }
         },
         "mode": "markers",
         "name": "Stewart",
         "orientation": "v",
         "showlegend": true,
         "x": [
          1969
         ],
         "xaxis": "x",
         "y": [
          6
         ],
         "yaxis": "y",
         "type": "scatter",
         "textfont": {
          "size": 20
         }
        }
       ],
       "layout": {
        "template": {
         "data": {
          "histogram2dcontour": [
           {
            "type": "histogram2dcontour",
            "colorbar": {
             "outlinewidth": 0,
             "ticks": ""
            },
            "colorscale": [
             [
              0.0,
              "#0d0887"
             ],
             [
              0.1111111111111111,
              "#46039f"
             ],
             [
              0.2222222222222222,
              "#7201a8"
             ],
             [
              0.3333333333333333,
              "#9c179e"
             ],
             [
              0.4444444444444444,
              "#bd3786"
             ],
             [
              0.5555555555555556,
              "#d8576b"
             ],
             [
              0.6666666666666666,
              "#ed7953"
             ],
             [
              0.7777777777777778,
              "#fb9f3a"
             ],
             [
              0.8888888888888888,
              "#fdca26"
             ],
             [
              1.0,
              "#f0f921"
             ]
            ]
           }
          ],
          "choropleth": [
           {
            "type": "choropleth",
            "colorbar": {
             "outlinewidth": 0,
             "ticks": ""
            }
           }
          ],
          "histogram2d": [
           {
            "type": "histogram2d",
            "colorbar": {
             "outlinewidth": 0,
             "ticks": ""
            },
            "colorscale": [
             [
              0.0,
              "#0d0887"
             ],
             [
              0.1111111111111111,
              "#46039f"
             ],
             [
              0.2222222222222222,
              "#7201a8"
             ],
             [
              0.3333333333333333,
              "#9c179e"
             ],
             [
              0.4444444444444444,
              "#bd3786"
             ],
             [
              0.5555555555555556,
              "#d8576b"
             ],
             [
              0.6666666666666666,
              "#ed7953"
             ],
             [
              0.7777777777777778,
              "#fb9f3a"
             ],
             [
              0.8888888888888888,
              "#fdca26"
             ],
             [
              1.0,
              "#f0f921"
             ]
            ]
           }
          ],
          "heatmap": [
           {
            "type": "heatmap",
            "colorbar": {
             "outlinewidth": 0,
             "ticks": ""
            },
            "colorscale": [
             [
              0.0,
              "#0d0887"
             ],
             [
              0.1111111111111111,
              "#46039f"
             ],
             [
              0.2222222222222222,
              "#7201a8"
             ],
             [
              0.3333333333333333,
              "#9c179e"
             ],
             [
              0.4444444444444444,
              "#bd3786"
             ],
             [
              0.5555555555555556,
              "#d8576b"
             ],
             [
              0.6666666666666666,
              "#ed7953"
             ],
             [
              0.7777777777777778,
              "#fb9f3a"
             ],
             [
              0.8888888888888888,
              "#fdca26"
             ],
             [
              1.0,
              "#f0f921"
             ]
            ]
           }
          ],
          "heatmapgl": [
           {
            "type": "heatmapgl",
            "colorbar": {
             "outlinewidth": 0,
             "ticks": ""
            },
            "colorscale": [
             [
              0.0,
              "#0d0887"
             ],
             [
              0.1111111111111111,
              "#46039f"
             ],
             [
              0.2222222222222222,
              "#7201a8"
             ],
             [
              0.3333333333333333,
              "#9c179e"
             ],
             [
              0.4444444444444444,
              "#bd3786"
             ],
             [
              0.5555555555555556,
              "#d8576b"
             ],
             [
              0.6666666666666666,
              "#ed7953"
             ],
             [
              0.7777777777777778,
              "#fb9f3a"
             ],
             [
              0.8888888888888888,
              "#fdca26"
             ],
             [
              1.0,
              "#f0f921"
             ]
            ]
           }
          ],
          "contourcarpet": [
           {
            "type": "contourcarpet",
            "colorbar": {
             "outlinewidth": 0,
             "ticks": ""
            }
           }
          ],
          "contour": [
           {
            "type": "contour",
            "colorbar": {
             "outlinewidth": 0,
             "ticks": ""
            },
            "colorscale": [
             [
              0.0,
              "#0d0887"
             ],
             [
              0.1111111111111111,
              "#46039f"
             ],
             [
              0.2222222222222222,
              "#7201a8"
             ],
             [
              0.3333333333333333,
              "#9c179e"
             ],
             [
              0.4444444444444444,
              "#bd3786"
             ],
             [
              0.5555555555555556,
              "#d8576b"
             ],
             [
              0.6666666666666666,
              "#ed7953"
             ],
             [
              0.7777777777777778,
              "#fb9f3a"
             ],
             [
              0.8888888888888888,
              "#fdca26"
             ],
             [
              1.0,
              "#f0f921"
             ]
            ]
           }
          ],
          "surface": [
           {
            "type": "surface",
            "colorbar": {
             "outlinewidth": 0,
             "ticks": ""
            },
            "colorscale": [
             [
              0.0,
              "#0d0887"
             ],
             [
              0.1111111111111111,
              "#46039f"
             ],
             [
              0.2222222222222222,
              "#7201a8"
             ],
             [
              0.3333333333333333,
              "#9c179e"
             ],
             [
              0.4444444444444444,
              "#bd3786"
             ],
             [
              0.5555555555555556,
              "#d8576b"
             ],
             [
              0.6666666666666666,
              "#ed7953"
             ],
             [
              0.7777777777777778,
              "#fb9f3a"
             ],
             [
              0.8888888888888888,
              "#fdca26"
             ],
             [
              1.0,
              "#f0f921"
             ]
            ]
           }
          ],
          "mesh3d": [
           {
            "type": "mesh3d",
            "colorbar": {
             "outlinewidth": 0,
             "ticks": ""
            }
           }
          ],
          "scatter": [
           {
            "marker": {
             "line": {
              "color": "#283442"
             }
            },
            "type": "scatter"
           }
          ],
          "parcoords": [
           {
            "type": "parcoords",
            "line": {
             "colorbar": {
              "outlinewidth": 0,
              "ticks": ""
             }
            }
           }
          ],
          "scatterpolargl": [
           {
            "type": "scatterpolargl",
            "marker": {
             "colorbar": {
              "outlinewidth": 0,
              "ticks": ""
             }
            }
           }
          ],
          "bar": [
           {
            "error_x": {
             "color": "#f2f5fa"
            },
            "error_y": {
             "color": "#f2f5fa"
            },
            "marker": {
             "line": {
              "color": "rgb(17,17,17)",
              "width": 0.5
             },
             "pattern": {
              "fillmode": "overlay",
              "size": 10,
              "solidity": 0.2
             }
            },
            "type": "bar"
           }
          ],
          "scattergeo": [
           {
            "type": "scattergeo",
            "marker": {
             "colorbar": {
              "outlinewidth": 0,
              "ticks": ""
             }
            }
           }
          ],
          "scatterpolar": [
           {
            "type": "scatterpolar",
            "marker": {
             "colorbar": {
              "outlinewidth": 0,
              "ticks": ""
             }
            }
           }
          ],
          "histogram": [
           {
            "marker": {
             "pattern": {
              "fillmode": "overlay",
              "size": 10,
              "solidity": 0.2
             }
            },
            "type": "histogram"
           }
          ],
          "scattergl": [
           {
            "marker": {
             "line": {
              "color": "#283442"
             }
            },
            "type": "scattergl"
           }
          ],
          "scatter3d": [
           {
            "type": "scatter3d",
            "line": {
             "colorbar": {
              "outlinewidth": 0,
              "ticks": ""
             }
            },
            "marker": {
             "colorbar": {
              "outlinewidth": 0,
              "ticks": ""
             }
            }
           }
          ],
          "scattermapbox": [
           {
            "type": "scattermapbox",
            "marker": {
             "colorbar": {
              "outlinewidth": 0,
              "ticks": ""
             }
            }
           }
          ],
          "scatterternary": [
           {
            "type": "scatterternary",
            "marker": {
             "colorbar": {
              "outlinewidth": 0,
              "ticks": ""
             }
            }
           }
          ],
          "scattercarpet": [
           {
            "type": "scattercarpet",
            "marker": {
             "colorbar": {
              "outlinewidth": 0,
              "ticks": ""
             }
            }
           }
          ],
          "carpet": [
           {
            "aaxis": {
             "endlinecolor": "#A2B1C6",
             "gridcolor": "#506784",
             "linecolor": "#506784",
             "minorgridcolor": "#506784",
             "startlinecolor": "#A2B1C6"
            },
            "baxis": {
             "endlinecolor": "#A2B1C6",
             "gridcolor": "#506784",
             "linecolor": "#506784",
             "minorgridcolor": "#506784",
             "startlinecolor": "#A2B1C6"
            },
            "type": "carpet"
           }
          ],
          "table": [
           {
            "cells": {
             "fill": {
              "color": "#506784"
             },
             "line": {
              "color": "rgb(17,17,17)"
             }
            },
            "header": {
             "fill": {
              "color": "#2a3f5f"
             },
             "line": {
              "color": "rgb(17,17,17)"
             }
            },
            "type": "table"
           }
          ],
          "barpolar": [
           {
            "marker": {
             "line": {
              "color": "rgb(17,17,17)",
              "width": 0.5
             },
             "pattern": {
              "fillmode": "overlay",
              "size": 10,
              "solidity": 0.2
             }
            },
            "type": "barpolar"
           }
          ],
          "pie": [
           {
            "automargin": true,
            "type": "pie"
           }
          ]
         },
         "layout": {
          "autotypenumbers": "strict",
          "colorway": [
           "#636efa",
           "#EF553B",
           "#00cc96",
           "#ab63fa",
           "#FFA15A",
           "#19d3f3",
           "#FF6692",
           "#B6E880",
           "#FF97FF",
           "#FECB52"
          ],
          "font": {
           "color": "#f2f5fa"
          },
          "hovermode": "closest",
          "hoverlabel": {
           "align": "left"
          },
          "paper_bgcolor": "rgb(17,17,17)",
          "plot_bgcolor": "rgb(17,17,17)",
          "polar": {
           "bgcolor": "rgb(17,17,17)",
           "angularaxis": {
            "gridcolor": "#506784",
            "linecolor": "#506784",
            "ticks": ""
           },
           "radialaxis": {
            "gridcolor": "#506784",
            "linecolor": "#506784",
            "ticks": ""
           }
          },
          "ternary": {
           "bgcolor": "rgb(17,17,17)",
           "aaxis": {
            "gridcolor": "#506784",
            "linecolor": "#506784",
            "ticks": ""
           },
           "baxis": {
            "gridcolor": "#506784",
            "linecolor": "#506784",
            "ticks": ""
           },
           "caxis": {
            "gridcolor": "#506784",
            "linecolor": "#506784",
            "ticks": ""
           }
          },
          "coloraxis": {
           "colorbar": {
            "outlinewidth": 0,
            "ticks": ""
           }
          },
          "colorscale": {
           "sequential": [
            [
             0.0,
             "#0d0887"
            ],
            [
             0.1111111111111111,
             "#46039f"
            ],
            [
             0.2222222222222222,
             "#7201a8"
            ],
            [
             0.3333333333333333,
             "#9c179e"
            ],
            [
             0.4444444444444444,
             "#bd3786"
            ],
            [
             0.5555555555555556,
             "#d8576b"
            ],
            [
             0.6666666666666666,
             "#ed7953"
            ],
            [
             0.7777777777777778,
             "#fb9f3a"
            ],
            [
             0.8888888888888888,
             "#fdca26"
            ],
            [
             1.0,
             "#f0f921"
            ]
           ],
           "sequentialminus": [
            [
             0.0,
             "#0d0887"
            ],
            [
             0.1111111111111111,
             "#46039f"
            ],
            [
             0.2222222222222222,
             "#7201a8"
            ],
            [
             0.3333333333333333,
             "#9c179e"
            ],
            [
             0.4444444444444444,
             "#bd3786"
            ],
            [
             0.5555555555555556,
             "#d8576b"
            ],
            [
             0.6666666666666666,
             "#ed7953"
            ],
            [
             0.7777777777777778,
             "#fb9f3a"
            ],
            [
             0.8888888888888888,
             "#fdca26"
            ],
            [
             1.0,
             "#f0f921"
            ]
           ],
           "diverging": [
            [
             0,
             "#8e0152"
            ],
            [
             0.1,
             "#c51b7d"
            ],
            [
             0.2,
             "#de77ae"
            ],
            [
             0.3,
             "#f1b6da"
            ],
            [
             0.4,
             "#fde0ef"
            ],
            [
             0.5,
             "#f7f7f7"
            ],
            [
             0.6,
             "#e6f5d0"
            ],
            [
             0.7,
             "#b8e186"
            ],
            [
             0.8,
             "#7fbc41"
            ],
            [
             0.9,
             "#4d9221"
            ],
            [
             1,
             "#276419"
            ]
           ]
          },
          "xaxis": {
           "gridcolor": "#283442",
           "linecolor": "#506784",
           "ticks": "",
           "title": {
            "standoff": 15
           },
           "zerolinecolor": "#283442",
           "automargin": true,
           "zerolinewidth": 2
          },
          "yaxis": {
           "gridcolor": "#283442",
           "linecolor": "#506784",
           "ticks": "",
           "title": {
            "standoff": 15
           },
           "zerolinecolor": "#283442",
           "automargin": true,
           "zerolinewidth": 2
          },
          "scene": {
           "xaxis": {
            "backgroundcolor": "rgb(17,17,17)",
            "gridcolor": "#506784",
            "linecolor": "#506784",
            "showbackground": true,
            "ticks": "",
            "zerolinecolor": "#C8D4E3",
            "gridwidth": 2
           },
           "yaxis": {
            "backgroundcolor": "rgb(17,17,17)",
            "gridcolor": "#506784",
            "linecolor": "#506784",
            "showbackground": true,
            "ticks": "",
            "zerolinecolor": "#C8D4E3",
            "gridwidth": 2
           },
           "zaxis": {
            "backgroundcolor": "rgb(17,17,17)",
            "gridcolor": "#506784",
            "linecolor": "#506784",
            "showbackground": true,
            "ticks": "",
            "zerolinecolor": "#C8D4E3",
            "gridwidth": 2
           }
          },
          "shapedefaults": {
           "line": {
            "color": "#f2f5fa"
           }
          },
          "annotationdefaults": {
           "arrowcolor": "#f2f5fa",
           "arrowhead": 0,
           "arrowwidth": 1
          },
          "geo": {
           "bgcolor": "rgb(17,17,17)",
           "landcolor": "rgb(17,17,17)",
           "subunitcolor": "#506784",
           "showland": true,
           "showlakes": true,
           "lakecolor": "rgb(17,17,17)"
          },
          "title": {
           "x": 0.05
          },
          "updatemenudefaults": {
           "bgcolor": "#506784",
           "borderwidth": 0
          },
          "sliderdefaults": {
           "bgcolor": "#C8D4E3",
           "borderwidth": 1,
           "bordercolor": "rgb(17,17,17)",
           "tickwidth": 0
          },
          "mapbox": {
           "style": "dark"
          }
         }
        },
        "xaxis": {
         "anchor": "y",
         "domain": [
          0.0,
          1.0
         ],
         "title": {
          "text": "year"
         },
         "showgrid": false
        },
        "yaxis": {
         "anchor": "x",
         "domain": [
          0.0,
          1.0
         ],
         "title": {
          "text": "Wins"
         }
        },
        "legend": {
         "title": {
          "text": "name"
         },
         "tracegroupgap": 0,
         "itemsizing": "constant"
        },
        "title": {
         "text": "Most wins by a driver in a single season"
        }
       },
       "config": {
        "plotlyServerURL": "https://plot.ly"
       }
      },
      "text/html": "<div>                            <div id=\"9977d971-b2b4-4487-a600-a792e7338fdb\" class=\"plotly-graph-div\" style=\"height:525px; width:100%;\"></div>            <script type=\"text/javascript\">                require([\"plotly\"], function(Plotly) {                    window.PLOTLYENV=window.PLOTLYENV || {};                                    if (document.getElementById(\"9977d971-b2b4-4487-a600-a792e7338fdb\")) {                    Plotly.newPlot(                        \"9977d971-b2b4-4487-a600-a792e7338fdb\",                        [{\"hovertemplate\":\"name=Verstappen\\u003cbr\\u003eyear=%{x}\\u003cbr\\u003eWins=%{marker.size}\\u003cextra\\u003e\\u003c\\u002fextra\\u003e\",\"legendgroup\":\"Verstappen\",\"marker\":{\"color\":\"#636efa\",\"size\":[15,10,10],\"sizemode\":\"area\",\"sizeref\":0.0375,\"symbol\":\"circle\",\"line\":{\"color\":\"#000000\",\"width\":2}},\"mode\":\"markers\",\"name\":\"Verstappen\",\"orientation\":\"v\",\"showlegend\":true,\"x\":[2022,2023,2021],\"xaxis\":\"x\",\"y\":[15,10,10],\"yaxis\":\"y\",\"type\":\"scatter\",\"textfont\":{\"size\":20}},{\"hovertemplate\":\"name=Vettel\\u003cbr\\u003eyear=%{x}\\u003cbr\\u003eWins=%{marker.size}\\u003cextra\\u003e\\u003c\\u002fextra\\u003e\",\"legendgroup\":\"Vettel\",\"marker\":{\"color\":\"#EF553B\",\"size\":[13,11],\"sizemode\":\"area\",\"sizeref\":0.0375,\"symbol\":\"circle\",\"line\":{\"color\":\"#000000\",\"width\":2}},\"mode\":\"markers\",\"name\":\"Vettel\",\"orientation\":\"v\",\"showlegend\":true,\"x\":[2013,2011],\"xaxis\":\"x\",\"y\":[13,11],\"yaxis\":\"y\",\"type\":\"scatter\",\"textfont\":{\"size\":20}},{\"hovertemplate\":\"name=Schumacher\\u003cbr\\u003eyear=%{x}\\u003cbr\\u003eWins=%{marker.size}\\u003cextra\\u003e\\u003c\\u002fextra\\u003e\",\"legendgroup\":\"Schumacher\",\"marker\":{\"color\":\"#00cc96\",\"size\":[13,11,9,9,9,8,7],\"sizemode\":\"area\",\"sizeref\":0.0375,\"symbol\":\"circle\",\"line\":{\"color\":\"#000000\",\"width\":2}},\"mode\":\"markers\",\"name\":\"Schumacher\",\"orientation\":\"v\",\"showlegend\":true,\"x\":[2004,2002,2000,2001,1995,1994,2006],\"xaxis\":\"x\",\"y\":[13,11,9,9,9,8,7],\"yaxis\":\"y\",\"type\":\"scatter\",\"textfont\":{\"size\":20}},{\"hovertemplate\":\"name=Hamilton\\u003cbr\\u003eyear=%{x}\\u003cbr\\u003eWins=%{marker.size}\\u003cextra\\u003e\\u003c\\u002fextra\\u003e\",\"legendgroup\":\"Hamilton\",\"marker\":{\"color\":\"#ab63fa\",\"size\":[11,11,11,11,10,9],\"sizemode\":\"area\",\"sizeref\":0.0375,\"symbol\":\"circle\",\"line\":{\"color\":\"#000000\",\"width\":2}},\"mode\":\"markers\",\"name\":\"Hamilton\",\"orientation\":\"v\",\"showlegend\":true,\"x\":[2014,2020,2018,2019,2015,2017],\"xaxis\":\"x\",\"y\":[11,11,11,11,10,9],\"yaxis\":\"y\",\"type\":\"scatter\",\"textfont\":{\"size\":20}},{\"hovertemplate\":\"name=Rosberg\\u003cbr\\u003eyear=%{x}\\u003cbr\\u003eWins=%{marker.size}\\u003cextra\\u003e\\u003c\\u002fextra\\u003e\",\"legendgroup\":\"Rosberg\",\"marker\":{\"color\":\"#FFA15A\",\"size\":[9],\"sizemode\":\"area\",\"sizeref\":0.0375,\"symbol\":\"circle\",\"line\":{\"color\":\"#000000\",\"width\":2}},\"mode\":\"markers\",\"name\":\"Rosberg\",\"orientation\":\"v\",\"showlegend\":true,\"x\":[2016],\"xaxis\":\"x\",\"y\":[9],\"yaxis\":\"y\",\"type\":\"scatter\",\"textfont\":{\"size\":20}},{\"hovertemplate\":\"name=Mansell\\u003cbr\\u003eyear=%{x}\\u003cbr\\u003eWins=%{marker.size}\\u003cextra\\u003e\\u003c\\u002fextra\\u003e\",\"legendgroup\":\"Mansell\",\"marker\":{\"color\":\"#19d3f3\",\"size\":[9],\"sizemode\":\"area\",\"sizeref\":0.0375,\"symbol\":\"circle\",\"line\":{\"color\":\"#000000\",\"width\":2}},\"mode\":\"markers\",\"name\":\"Mansell\",\"orientation\":\"v\",\"showlegend\":true,\"x\":[1992],\"xaxis\":\"x\",\"y\":[9],\"yaxis\":\"y\",\"type\":\"scatter\",\"textfont\":{\"size\":20}},{\"hovertemplate\":\"name=Hill\\u003cbr\\u003eyear=%{x}\\u003cbr\\u003eWins=%{marker.size}\\u003cextra\\u003e\\u003c\\u002fextra\\u003e\",\"legendgroup\":\"Hill\",\"marker\":{\"color\":\"#FF6692\",\"size\":[8],\"sizemode\":\"area\",\"sizeref\":0.0375,\"symbol\":\"circle\",\"line\":{\"color\":\"#000000\",\"width\":2}},\"mode\":\"markers\",\"name\":\"Hill\",\"orientation\":\"v\",\"showlegend\":true,\"x\":[1996],\"xaxis\":\"x\",\"y\":[8],\"yaxis\":\"y\",\"type\":\"scatter\",\"textfont\":{\"size\":20}},{\"hovertemplate\":\"name=Senna\\u003cbr\\u003eyear=%{x}\\u003cbr\\u003eWins=%{marker.size}\\u003cextra\\u003e\\u003c\\u002fextra\\u003e\",\"legendgroup\":\"Senna\",\"marker\":{\"color\":\"#B6E880\",\"size\":[8,7],\"sizemode\":\"area\",\"sizeref\":0.0375,\"symbol\":\"circle\",\"line\":{\"color\":\"#000000\",\"width\":2}},\"mode\":\"markers\",\"name\":\"Senna\",\"orientation\":\"v\",\"showlegend\":true,\"x\":[1988,1991],\"xaxis\":\"x\",\"y\":[8,7],\"yaxis\":\"y\",\"type\":\"scatter\",\"textfont\":{\"size\":20}},{\"hovertemplate\":\"name=H\\u00e4kkinen\\u003cbr\\u003eyear=%{x}\\u003cbr\\u003eWins=%{marker.size}\\u003cextra\\u003e\\u003c\\u002fextra\\u003e\",\"legendgroup\":\"H\\u00e4kkinen\",\"marker\":{\"color\":\"#FF97FF\",\"size\":[8],\"sizemode\":\"area\",\"sizeref\":0.0375,\"symbol\":\"circle\",\"line\":{\"color\":\"#000000\",\"width\":2}},\"mode\":\"markers\",\"name\":\"H\\u00e4kkinen\",\"orientation\":\"v\",\"showlegend\":true,\"x\":[1998],\"xaxis\":\"x\",\"y\":[8],\"yaxis\":\"y\",\"type\":\"scatter\",\"textfont\":{\"size\":20}},{\"hovertemplate\":\"name=Alonso\\u003cbr\\u003eyear=%{x}\\u003cbr\\u003eWins=%{marker.size}\\u003cextra\\u003e\\u003c\\u002fextra\\u003e\",\"legendgroup\":\"Alonso\",\"marker\":{\"color\":\"#FECB52\",\"size\":[7,7],\"sizemode\":\"area\",\"sizeref\":0.0375,\"symbol\":\"circle\",\"line\":{\"color\":\"#000000\",\"width\":2}},\"mode\":\"markers\",\"name\":\"Alonso\",\"orientation\":\"v\",\"showlegend\":true,\"x\":[2006,2005],\"xaxis\":\"x\",\"y\":[7,7],\"yaxis\":\"y\",\"type\":\"scatter\",\"textfont\":{\"size\":20}},{\"hovertemplate\":\"name=Villeneuve\\u003cbr\\u003eyear=%{x}\\u003cbr\\u003eWins=%{marker.size}\\u003cextra\\u003e\\u003c\\u002fextra\\u003e\",\"legendgroup\":\"Villeneuve\",\"marker\":{\"color\":\"#636efa\",\"size\":[7],\"sizemode\":\"area\",\"sizeref\":0.0375,\"symbol\":\"circle\",\"line\":{\"color\":\"#000000\",\"width\":2}},\"mode\":\"markers\",\"name\":\"Villeneuve\",\"orientation\":\"v\",\"showlegend\":true,\"x\":[1997],\"xaxis\":\"x\",\"y\":[7],\"yaxis\":\"y\",\"type\":\"scatter\",\"textfont\":{\"size\":20}},{\"hovertemplate\":\"name=Clark\\u003cbr\\u003eyear=%{x}\\u003cbr\\u003eWins=%{marker.size}\\u003cextra\\u003e\\u003c\\u002fextra\\u003e\",\"legendgroup\":\"Clark\",\"marker\":{\"color\":\"#EF553B\",\"size\":[7],\"sizemode\":\"area\",\"sizeref\":0.0375,\"symbol\":\"circle\",\"line\":{\"color\":\"#000000\",\"width\":2}},\"mode\":\"markers\",\"name\":\"Clark\",\"orientation\":\"v\",\"showlegend\":true,\"x\":[1963],\"xaxis\":\"x\",\"y\":[7],\"yaxis\":\"y\",\"type\":\"scatter\",\"textfont\":{\"size\":20}},{\"hovertemplate\":\"name=Prost\\u003cbr\\u003eyear=%{x}\\u003cbr\\u003eWins=%{marker.size}\\u003cextra\\u003e\\u003c\\u002fextra\\u003e\",\"legendgroup\":\"Prost\",\"marker\":{\"color\":\"#00cc96\",\"size\":[7],\"sizemode\":\"area\",\"sizeref\":0.0375,\"symbol\":\"circle\",\"line\":{\"color\":\"#000000\",\"width\":2}},\"mode\":\"markers\",\"name\":\"Prost\",\"orientation\":\"v\",\"showlegend\":true,\"x\":[1993],\"xaxis\":\"x\",\"y\":[7],\"yaxis\":\"y\",\"type\":\"scatter\",\"textfont\":{\"size\":20}},{\"hovertemplate\":\"name=Stewart\\u003cbr\\u003eyear=%{x}\\u003cbr\\u003eWins=%{marker.size}\\u003cextra\\u003e\\u003c\\u002fextra\\u003e\",\"legendgroup\":\"Stewart\",\"marker\":{\"color\":\"#ab63fa\",\"size\":[6],\"sizemode\":\"area\",\"sizeref\":0.0375,\"symbol\":\"circle\",\"line\":{\"color\":\"#000000\",\"width\":2}},\"mode\":\"markers\",\"name\":\"Stewart\",\"orientation\":\"v\",\"showlegend\":true,\"x\":[1969],\"xaxis\":\"x\",\"y\":[6],\"yaxis\":\"y\",\"type\":\"scatter\",\"textfont\":{\"size\":20}}],                        {\"template\":{\"data\":{\"histogram2dcontour\":[{\"type\":\"histogram2dcontour\",\"colorbar\":{\"outlinewidth\":0,\"ticks\":\"\"},\"colorscale\":[[0.0,\"#0d0887\"],[0.1111111111111111,\"#46039f\"],[0.2222222222222222,\"#7201a8\"],[0.3333333333333333,\"#9c179e\"],[0.4444444444444444,\"#bd3786\"],[0.5555555555555556,\"#d8576b\"],[0.6666666666666666,\"#ed7953\"],[0.7777777777777778,\"#fb9f3a\"],[0.8888888888888888,\"#fdca26\"],[1.0,\"#f0f921\"]]}],\"choropleth\":[{\"type\":\"choropleth\",\"colorbar\":{\"outlinewidth\":0,\"ticks\":\"\"}}],\"histogram2d\":[{\"type\":\"histogram2d\",\"colorbar\":{\"outlinewidth\":0,\"ticks\":\"\"},\"colorscale\":[[0.0,\"#0d0887\"],[0.1111111111111111,\"#46039f\"],[0.2222222222222222,\"#7201a8\"],[0.3333333333333333,\"#9c179e\"],[0.4444444444444444,\"#bd3786\"],[0.5555555555555556,\"#d8576b\"],[0.6666666666666666,\"#ed7953\"],[0.7777777777777778,\"#fb9f3a\"],[0.8888888888888888,\"#fdca26\"],[1.0,\"#f0f921\"]]}],\"heatmap\":[{\"type\":\"heatmap\",\"colorbar\":{\"outlinewidth\":0,\"ticks\":\"\"},\"colorscale\":[[0.0,\"#0d0887\"],[0.1111111111111111,\"#46039f\"],[0.2222222222222222,\"#7201a8\"],[0.3333333333333333,\"#9c179e\"],[0.4444444444444444,\"#bd3786\"],[0.5555555555555556,\"#d8576b\"],[0.6666666666666666,\"#ed7953\"],[0.7777777777777778,\"#fb9f3a\"],[0.8888888888888888,\"#fdca26\"],[1.0,\"#f0f921\"]]}],\"heatmapgl\":[{\"type\":\"heatmapgl\",\"colorbar\":{\"outlinewidth\":0,\"ticks\":\"\"},\"colorscale\":[[0.0,\"#0d0887\"],[0.1111111111111111,\"#46039f\"],[0.2222222222222222,\"#7201a8\"],[0.3333333333333333,\"#9c179e\"],[0.4444444444444444,\"#bd3786\"],[0.5555555555555556,\"#d8576b\"],[0.6666666666666666,\"#ed7953\"],[0.7777777777777778,\"#fb9f3a\"],[0.8888888888888888,\"#fdca26\"],[1.0,\"#f0f921\"]]}],\"contourcarpet\":[{\"type\":\"contourcarpet\",\"colorbar\":{\"outlinewidth\":0,\"ticks\":\"\"}}],\"contour\":[{\"type\":\"contour\",\"colorbar\":{\"outlinewidth\":0,\"ticks\":\"\"},\"colorscale\":[[0.0,\"#0d0887\"],[0.1111111111111111,\"#46039f\"],[0.2222222222222222,\"#7201a8\"],[0.3333333333333333,\"#9c179e\"],[0.4444444444444444,\"#bd3786\"],[0.5555555555555556,\"#d8576b\"],[0.6666666666666666,\"#ed7953\"],[0.7777777777777778,\"#fb9f3a\"],[0.8888888888888888,\"#fdca26\"],[1.0,\"#f0f921\"]]}],\"surface\":[{\"type\":\"surface\",\"colorbar\":{\"outlinewidth\":0,\"ticks\":\"\"},\"colorscale\":[[0.0,\"#0d0887\"],[0.1111111111111111,\"#46039f\"],[0.2222222222222222,\"#7201a8\"],[0.3333333333333333,\"#9c179e\"],[0.4444444444444444,\"#bd3786\"],[0.5555555555555556,\"#d8576b\"],[0.6666666666666666,\"#ed7953\"],[0.7777777777777778,\"#fb9f3a\"],[0.8888888888888888,\"#fdca26\"],[1.0,\"#f0f921\"]]}],\"mesh3d\":[{\"type\":\"mesh3d\",\"colorbar\":{\"outlinewidth\":0,\"ticks\":\"\"}}],\"scatter\":[{\"marker\":{\"line\":{\"color\":\"#283442\"}},\"type\":\"scatter\"}],\"parcoords\":[{\"type\":\"parcoords\",\"line\":{\"colorbar\":{\"outlinewidth\":0,\"ticks\":\"\"}}}],\"scatterpolargl\":[{\"type\":\"scatterpolargl\",\"marker\":{\"colorbar\":{\"outlinewidth\":0,\"ticks\":\"\"}}}],\"bar\":[{\"error_x\":{\"color\":\"#f2f5fa\"},\"error_y\":{\"color\":\"#f2f5fa\"},\"marker\":{\"line\":{\"color\":\"rgb(17,17,17)\",\"width\":0.5},\"pattern\":{\"fillmode\":\"overlay\",\"size\":10,\"solidity\":0.2}},\"type\":\"bar\"}],\"scattergeo\":[{\"type\":\"scattergeo\",\"marker\":{\"colorbar\":{\"outlinewidth\":0,\"ticks\":\"\"}}}],\"scatterpolar\":[{\"type\":\"scatterpolar\",\"marker\":{\"colorbar\":{\"outlinewidth\":0,\"ticks\":\"\"}}}],\"histogram\":[{\"marker\":{\"pattern\":{\"fillmode\":\"overlay\",\"size\":10,\"solidity\":0.2}},\"type\":\"histogram\"}],\"scattergl\":[{\"marker\":{\"line\":{\"color\":\"#283442\"}},\"type\":\"scattergl\"}],\"scatter3d\":[{\"type\":\"scatter3d\",\"line\":{\"colorbar\":{\"outlinewidth\":0,\"ticks\":\"\"}},\"marker\":{\"colorbar\":{\"outlinewidth\":0,\"ticks\":\"\"}}}],\"scattermapbox\":[{\"type\":\"scattermapbox\",\"marker\":{\"colorbar\":{\"outlinewidth\":0,\"ticks\":\"\"}}}],\"scatterternary\":[{\"type\":\"scatterternary\",\"marker\":{\"colorbar\":{\"outlinewidth\":0,\"ticks\":\"\"}}}],\"scattercarpet\":[{\"type\":\"scattercarpet\",\"marker\":{\"colorbar\":{\"outlinewidth\":0,\"ticks\":\"\"}}}],\"carpet\":[{\"aaxis\":{\"endlinecolor\":\"#A2B1C6\",\"gridcolor\":\"#506784\",\"linecolor\":\"#506784\",\"minorgridcolor\":\"#506784\",\"startlinecolor\":\"#A2B1C6\"},\"baxis\":{\"endlinecolor\":\"#A2B1C6\",\"gridcolor\":\"#506784\",\"linecolor\":\"#506784\",\"minorgridcolor\":\"#506784\",\"startlinecolor\":\"#A2B1C6\"},\"type\":\"carpet\"}],\"table\":[{\"cells\":{\"fill\":{\"color\":\"#506784\"},\"line\":{\"color\":\"rgb(17,17,17)\"}},\"header\":{\"fill\":{\"color\":\"#2a3f5f\"},\"line\":{\"color\":\"rgb(17,17,17)\"}},\"type\":\"table\"}],\"barpolar\":[{\"marker\":{\"line\":{\"color\":\"rgb(17,17,17)\",\"width\":0.5},\"pattern\":{\"fillmode\":\"overlay\",\"size\":10,\"solidity\":0.2}},\"type\":\"barpolar\"}],\"pie\":[{\"automargin\":true,\"type\":\"pie\"}]},\"layout\":{\"autotypenumbers\":\"strict\",\"colorway\":[\"#636efa\",\"#EF553B\",\"#00cc96\",\"#ab63fa\",\"#FFA15A\",\"#19d3f3\",\"#FF6692\",\"#B6E880\",\"#FF97FF\",\"#FECB52\"],\"font\":{\"color\":\"#f2f5fa\"},\"hovermode\":\"closest\",\"hoverlabel\":{\"align\":\"left\"},\"paper_bgcolor\":\"rgb(17,17,17)\",\"plot_bgcolor\":\"rgb(17,17,17)\",\"polar\":{\"bgcolor\":\"rgb(17,17,17)\",\"angularaxis\":{\"gridcolor\":\"#506784\",\"linecolor\":\"#506784\",\"ticks\":\"\"},\"radialaxis\":{\"gridcolor\":\"#506784\",\"linecolor\":\"#506784\",\"ticks\":\"\"}},\"ternary\":{\"bgcolor\":\"rgb(17,17,17)\",\"aaxis\":{\"gridcolor\":\"#506784\",\"linecolor\":\"#506784\",\"ticks\":\"\"},\"baxis\":{\"gridcolor\":\"#506784\",\"linecolor\":\"#506784\",\"ticks\":\"\"},\"caxis\":{\"gridcolor\":\"#506784\",\"linecolor\":\"#506784\",\"ticks\":\"\"}},\"coloraxis\":{\"colorbar\":{\"outlinewidth\":0,\"ticks\":\"\"}},\"colorscale\":{\"sequential\":[[0.0,\"#0d0887\"],[0.1111111111111111,\"#46039f\"],[0.2222222222222222,\"#7201a8\"],[0.3333333333333333,\"#9c179e\"],[0.4444444444444444,\"#bd3786\"],[0.5555555555555556,\"#d8576b\"],[0.6666666666666666,\"#ed7953\"],[0.7777777777777778,\"#fb9f3a\"],[0.8888888888888888,\"#fdca26\"],[1.0,\"#f0f921\"]],\"sequentialminus\":[[0.0,\"#0d0887\"],[0.1111111111111111,\"#46039f\"],[0.2222222222222222,\"#7201a8\"],[0.3333333333333333,\"#9c179e\"],[0.4444444444444444,\"#bd3786\"],[0.5555555555555556,\"#d8576b\"],[0.6666666666666666,\"#ed7953\"],[0.7777777777777778,\"#fb9f3a\"],[0.8888888888888888,\"#fdca26\"],[1.0,\"#f0f921\"]],\"diverging\":[[0,\"#8e0152\"],[0.1,\"#c51b7d\"],[0.2,\"#de77ae\"],[0.3,\"#f1b6da\"],[0.4,\"#fde0ef\"],[0.5,\"#f7f7f7\"],[0.6,\"#e6f5d0\"],[0.7,\"#b8e186\"],[0.8,\"#7fbc41\"],[0.9,\"#4d9221\"],[1,\"#276419\"]]},\"xaxis\":{\"gridcolor\":\"#283442\",\"linecolor\":\"#506784\",\"ticks\":\"\",\"title\":{\"standoff\":15},\"zerolinecolor\":\"#283442\",\"automargin\":true,\"zerolinewidth\":2},\"yaxis\":{\"gridcolor\":\"#283442\",\"linecolor\":\"#506784\",\"ticks\":\"\",\"title\":{\"standoff\":15},\"zerolinecolor\":\"#283442\",\"automargin\":true,\"zerolinewidth\":2},\"scene\":{\"xaxis\":{\"backgroundcolor\":\"rgb(17,17,17)\",\"gridcolor\":\"#506784\",\"linecolor\":\"#506784\",\"showbackground\":true,\"ticks\":\"\",\"zerolinecolor\":\"#C8D4E3\",\"gridwidth\":2},\"yaxis\":{\"backgroundcolor\":\"rgb(17,17,17)\",\"gridcolor\":\"#506784\",\"linecolor\":\"#506784\",\"showbackground\":true,\"ticks\":\"\",\"zerolinecolor\":\"#C8D4E3\",\"gridwidth\":2},\"zaxis\":{\"backgroundcolor\":\"rgb(17,17,17)\",\"gridcolor\":\"#506784\",\"linecolor\":\"#506784\",\"showbackground\":true,\"ticks\":\"\",\"zerolinecolor\":\"#C8D4E3\",\"gridwidth\":2}},\"shapedefaults\":{\"line\":{\"color\":\"#f2f5fa\"}},\"annotationdefaults\":{\"arrowcolor\":\"#f2f5fa\",\"arrowhead\":0,\"arrowwidth\":1},\"geo\":{\"bgcolor\":\"rgb(17,17,17)\",\"landcolor\":\"rgb(17,17,17)\",\"subunitcolor\":\"#506784\",\"showland\":true,\"showlakes\":true,\"lakecolor\":\"rgb(17,17,17)\"},\"title\":{\"x\":0.05},\"updatemenudefaults\":{\"bgcolor\":\"#506784\",\"borderwidth\":0},\"sliderdefaults\":{\"bgcolor\":\"#C8D4E3\",\"borderwidth\":1,\"bordercolor\":\"rgb(17,17,17)\",\"tickwidth\":0},\"mapbox\":{\"style\":\"dark\"}}},\"xaxis\":{\"anchor\":\"y\",\"domain\":[0.0,1.0],\"title\":{\"text\":\"year\"},\"showgrid\":false},\"yaxis\":{\"anchor\":\"x\",\"domain\":[0.0,1.0],\"title\":{\"text\":\"Wins\"}},\"legend\":{\"title\":{\"text\":\"name\"},\"tracegroupgap\":0,\"itemsizing\":\"constant\"},\"title\":{\"text\":\"Most wins by a driver in a single season\"}},                        {\"responsive\": true}                    ).then(function(){\n                            \nvar gd = document.getElementById('9977d971-b2b4-4487-a600-a792e7338fdb');\nvar x = new MutationObserver(function (mutations, observer) {{\n        var display = window.getComputedStyle(gd).display;\n        if (!display || display === 'none') {{\n            console.log([gd, 'removed!']);\n            Plotly.purge(gd);\n            observer.disconnect();\n        }}\n}});\n\n// Listen for the removal of the full notebook cells\nvar notebookContainer = gd.closest('#notebook-container');\nif (notebookContainer) {{\n    x.observe(notebookContainer, {childList: true});\n}}\n\n// Listen for the clearing of the current output cell\nvar outputEl = gd.closest('.output');\nif (outputEl) {{\n    x.observe(outputEl, {childList: true});\n}}\n\n                        })                };                });            </script>        </div>"
     },
     "metadata": {},
     "output_type": "display_data"
    }
   ],
   "source": [
    "#plotting a bubble chart\n",
    "\n",
    "fig = px.scatter(positions.head(30), x=\"year\", y=\"Wins\", color=\"name\",\n",
    "                 title=\"Most wins by a driver in a single season\",size = 'Wins')\n",
    "fig.update_traces(textfont_size=20,\n",
    "                  marker=dict(line=dict(color='#000000', width=2)))\n",
    "fig.update_xaxes(showgrid=False)\n",
    "fig.show()"
   ]
  },
  {
   "cell_type": "markdown",
   "id": "08cc45b6",
   "metadata": {
    "heading_collapsed": true,
    "id": "56b09f15",
    "papermill": {
     "duration": 0.022047,
     "end_time": "2023-04-20T17:11:35.498549",
     "exception": false,
     "start_time": "2023-04-20T17:11:35.476502",
     "status": "completed"
    },
    "tags": []
   },
   "source": [
    "## Circuit Stats: Fastest Lap on each Circuit"
   ]
  },
  {
   "cell_type": "code",
   "execution_count": 8,
   "id": "326dfff4",
   "metadata": {
    "ExecuteTime": {
     "end_time": "2024-03-29T15:37:14.078618200Z",
     "start_time": "2024-03-29T15:37:13.918578900Z"
    }
   },
   "outputs": [],
   "source": [
    "# gathering races, results and drivers data\n",
    "circuit_summary = circuits.merge(races,left_on='circuitId', right_on='circuitId', how = 'left')\n",
    "circuit_summary = circuit_summary.merge(results,on='raceId',how = 'left')\n",
    "circuit_summary = circuit_summary.merge(drivers,left_on='driverId',right_on='driverId',how = 'inner')\n",
    "\n",
    "# dropping null values and converting fastestlaptime into seconds\n",
    "circuit_summary = circuit_summary.dropna(subset=['fastestLapTime'], axis = 0)\n",
    "circuit_summary = circuit_summary.rename(columns={'name_x':'circuit_name','name_y':'driver_name'})\n",
    "# remove rows with \\N value in fastestLapTime\n",
    "circuit_summary = circuit_summary[circuit_summary['fastestLapTime'] != '\\\\N']\n",
    "circuit_summary['fastestLapTime_seconds']=circuit_summary['fastestLapTime'].apply(lambda x: float(x.split(':')[0])*60+float(x.split(':')[1])) \n",
    "\n",
    "#grouping by circuit name and extracting the fastest lap time, keeping all circuit_summary columns\n",
    "circuit_summary['fastest_recorded_lap'] = circuit_summary.groupby(['circuit_name'])['fastestLapTime_seconds'].transform('min')\n",
    "fastest = circuit_summary[circuit_summary['fastest_recorded_lap']==circuit_summary['fastestLapTime_seconds']].sort_values('country').reset_index(col_level = 1)\n",
    "fastest.drop(['index','fastest_recorded_lap'],inplace=True,axis = 1)\n",
    "fastest['year'] = fastest.year.dt.year\n",
    "\n",
    "# rename alt by altitude [m]\n",
    "fastest.rename(columns={'alt':'altitude [m]'},inplace=True)"
   ]
  },
  {
   "cell_type": "code",
   "execution_count": 9,
   "id": "1484c2ff",
   "metadata": {
    "ExecuteTime": {
     "end_time": "2024-03-29T15:37:15.389965Z",
     "start_time": "2024-03-29T15:37:14.894553500Z"
    }
   },
   "outputs": [
    {
     "name": "stderr",
     "output_type": "stream",
     "text": [
      "C:\\Users\\xagao\\AppData\\Local\\Temp\\ipykernel_28612\\1462291787.py:2: UserWarning: This figure was using a layout engine that is incompatible with subplots_adjust and/or tight_layout; not calling subplots_adjust.\n",
      "  plt.subplots_adjust(left=0.1, right=0.9, top=0.9, bottom=0.1)\n"
     ]
    },
    {
     "data": {
      "text/plain": "<Figure size 1000x500 with 0 Axes>"
     },
     "metadata": {},
     "output_type": "display_data"
    },
    {
     "data": {
      "text/plain": "<Figure size 640x480 with 1 Axes>",
      "image/png": "[encoded data removed]"
     },
     "metadata": {},
     "output_type": "display_data"
    }
   ],
   "source": [
    "plt.figure(figsize=(10,5),constrained_layout=True)\n",
    "plt.subplots_adjust(left=0.1, right=0.9, top=0.9, bottom=0.1)\n",
    "fastest.head(5).plot(kind='bar',x='circuit_name',y='fastestLapTime_seconds')\n",
    "plt.title('Fastest Lap Time for top 5 circuits')\n",
    "plt.ylabel('Fastest Lap Time [s]')\n",
    "plt.xlabel('Circuit Name')\n",
    "\n",
    "# add driver name as annotation\n",
    "for i in range(5):\n",
    "    plt.text(i,fastest['fastestLapTime_seconds'][i]+1,fastest['surname'][i],rotation=0, ha='center')\n",
    "    \n",
    "plt.legend().remove()\n",
    "plt.savefig('./img/fastest_lap_l.png', transparent=True, bbox_inches='tight')\n",
    "plt.show()"
   ]
  },
  {
   "cell_type": "markdown",
   "id": "cffe9fae",
   "metadata": {
    "hidden": true,
    "id": "44a911af",
    "papermill": {
     "duration": 0.020822,
     "end_time": "2023-04-20T17:11:35.911713",
     "exception": false,
     "start_time": "2023-04-20T17:11:35.890891",
     "status": "completed"
    },
    "tags": []
   },
   "source": [
    "####  "
   ]
  }
 ],
 "metadata": {
  "kernelspec": {
   "display_name": "Python 3",
   "language": "python",
   "name": "python3"
  },
  "language_info": {
   "codemirror_mode": {
    "name": "ipython",
    "version": 3
   },
   "file_extension": ".py",
   "mimetype": "text/x-python",
   "name": "python",
   "nbconvert_exporter": "python",
   "pygments_lexer": "ipython3",
   "version": "3.10.13"
  },
  "papermill": {
   "default_parameters": {},
   "duration": 23.2074,
   "end_time": "2023-04-20T17:11:38.143968",
   "environment_variables": {},
   "exception": null,
   "input_path": "__notebook__.ipynb",
   "output_path": "__notebook__.ipynb",
   "parameters": {},
   "start_time": "2023-04-20T17:11:14.936568",
   "version": "2.3.4"
  }
 },
 "nbformat": 4,
 "nbformat_minor": 5
}
